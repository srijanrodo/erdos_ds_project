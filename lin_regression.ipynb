{
 "cells": [
  {
   "cell_type": "code",
   "execution_count": 1,
   "metadata": {},
   "outputs": [],
   "source": [
    "import pandas as pd\n",
    "import numpy as np\n",
    "import matplotlib.pyplot as plt\n",
    "import seaborn as sns\n",
    "import requests\n",
    "from pathlib import Path\n",
    "from sklearn.model_selection import train_test_split, KFold\n",
    "from sklearn.linear_model import LinearRegression\n",
    "from sklearn.metrics import mean_squared_error\n",
    "sns.set_style(\"whitegrid\")"
   ]
  },
  {
   "cell_type": "code",
   "execution_count": 2,
   "metadata": {},
   "outputs": [],
   "source": [
    "aggregate=pd.read_csv('./aggregate.csv',engine='python')\n",
    "aggregate.set_index('GEO_ID',inplace=True)\n",
    "agg_train, agg_test = train_test_split(aggregate,test_size=0.2,shuffle=True,random_state=121)"
   ]
  },
  {
   "cell_type": "code",
   "execution_count": null,
   "metadata": {},
   "outputs": [],
   "source": [
    "agg_train['unemp_bac']=agg_train['unemp_rate']*agg_train['bac_deg']\n",
    "agg_train['bac2']=agg_train['bac_deg']**2\n",
    "agg_train['unemp_rate2']=agg_train['unemp_rate']**2\n",
    "agg_train['log_pop']=np.log10(agg_train['total_pop'])\n",
    "agg_train['young_unemp']=np.log10(agg_train['pop_18_30_pc']*agg_train['unemp_rate'])\n",
    "agg_train['log_pov']=np.log10(agg_train['pov_pc'])\n",
    "agg_train['pov_bac']=agg_train['pov_pc']*agg_train['bac_deg']\n",
    "agg_train['log_urban_pop']=np.log10(agg_train['urban']*agg_train['total_pop'])"
   ]
  },
  {
   "cell_type": "code",
   "execution_count": null,
   "metadata": {},
   "outputs": [],
   "source": [
    "features=['white_pc','log_pop','']"
   ]
  }
 ],
 "metadata": {
  "kernelspec": {
   "display_name": "erdos_may_2024",
   "language": "python",
   "name": "python3"
  },
  "language_info": {
   "codemirror_mode": {
    "name": "ipython",
    "version": 3
   },
   "file_extension": ".py",
   "mimetype": "text/x-python",
   "name": "python",
   "nbconvert_exporter": "python",
   "pygments_lexer": "ipython3",
   "version": "3.11.9"
  }
 },
 "nbformat": 4,
 "nbformat_minor": 2
}

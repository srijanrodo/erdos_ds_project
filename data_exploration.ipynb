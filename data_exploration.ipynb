{
 "cells": [
  {
   "cell_type": "code",
   "execution_count": 1,
   "metadata": {},
   "outputs": [],
   "source": [
    "import pandas as pd\n",
    "import numpy as np\n",
    "import matplotlib.pyplot as plt\n",
    "import seaborn as sns\n",
    "sns.set_style(\"whitegrid\")"
   ]
  },
  {
   "cell_type": "code",
   "execution_count": null,
   "metadata": {},
   "outputs": [],
   "source": []
  },
  {
   "cell_type": "code",
   "execution_count": 7,
   "metadata": {},
   "outputs": [],
   "source": [
    "tweets_trump=pd.read_csv('./tweet_data/trump.csv',engine='python')"
   ]
  },
  {
   "cell_type": "code",
   "execution_count": 6,
   "metadata": {},
   "outputs": [
    {
     "name": "stderr",
     "output_type": "stream",
     "text": [
      "/tmp/ipykernel_143183/1515479679.py:1: DtypeWarning: Columns (1,2,3,5,6,7,8,9,10,11,12,13,14,15,16,17,18,19,20) have mixed types. Specify dtype option on import or set low_memory=False.\n",
      "  tweets_biden=pd.read_csv('./tweet_data/biden.csv')\n"
     ]
    }
   ],
   "source": [
    "tweets_biden=pd.read_csv('./tweet_data/biden.csv')\n"
   ]
  },
  {
   "cell_type": "code",
   "execution_count": 117,
   "metadata": {},
   "outputs": [],
   "source": [
    "#tweets_biden.loc[0]"
   ]
  },
  {
   "cell_type": "code",
   "execution_count": 8,
   "metadata": {},
   "outputs": [],
   "source": [
    "tjb=tweets_biden.dropna(subset=['lat','long','city','state','user_location'],how='all')\n",
    "tdt=tweets_trump.dropna(subset=['lat','long','city','state','user_location'],how='all')\n",
    "#td.groupby('country').size().sort_values()"
   ]
  },
  {
   "cell_type": "code",
   "execution_count": 9,
   "metadata": {},
   "outputs": [],
   "source": [
    "tjb=tjb.loc[(tjb['country']==\"United States\" ) | (tjb['country']==\"United States of America\")]\n",
    "tdt=tdt.loc[(tdt['country']==\"United States\" ) | (tdt['country']==\"United States of America\")]\n"
   ]
  },
  {
   "cell_type": "code",
   "execution_count": 10,
   "metadata": {},
   "outputs": [
    {
     "data": {
      "text/plain": [
       "213259"
      ]
     },
     "execution_count": 10,
     "metadata": {},
     "output_type": "execute_result"
    }
   ],
   "source": [
    "len(tdt)"
   ]
  },
  {
   "cell_type": "code",
   "execution_count": 17,
   "metadata": {},
   "outputs": [
    {
     "data": {
      "text/plain": [
       "user_location      lat                 long               \n",
       "California         36.7014631          -118.75599740000001     1356\n",
       "Los Angeles        34.0536909          -118.24276599999999     1419\n",
       "Planet Earth       34.233137299999996  -102.4107493            1424\n",
       "Philadelphia, PA   39.9527237          -75.16352619999999      1467\n",
       "Manhattan, NY      40.7896239          -73.9598939             1552\n",
       "NYC                40.7127281          -74.0060152             1614\n",
       "New York City      40.7127281          -74.0060152             1877\n",
       "New Jersey, USA    40.0757384          -74.4041622             2081\n",
       "Pennsylvania, USA  40.9699889          -77.72788309999999      2343\n",
       "New York           40.7127281          -74.0060152             2431\n",
       "Chicago, IL        41.875561600000005  -87.6244212             2533\n",
       "Texas, USA         31.8160381          -99.51209859999999      2641\n",
       "New York, USA      40.7127281          -74.0060152             2703\n",
       "New York, NY       40.7127281          -74.0060152             3413\n",
       "Florida, USA       27.7567667          -81.4639835             3596\n",
       "Los Angeles, CA    34.0536909          -118.24276599999999     4990\n",
       "California, USA    36.7014631          -118.75599740000001     5625\n",
       "Washington, DC     38.8949924          -77.0365581             6437\n",
       "USA                39.7837304          -100.4458825            8967\n",
       "United States      39.7837304          -100.4458825           21449\n",
       "dtype: int64"
      ]
     },
     "execution_count": 17,
     "metadata": {},
     "output_type": "execute_result"
    }
   ],
   "source": [
    "tdt.groupby(['user_location','lat','long']).size().sort_values()[-20:]"
   ]
  },
  {
   "cell_type": "code",
   "execution_count": null,
   "metadata": {},
   "outputs": [],
   "source": []
  }
 ],
 "metadata": {
  "kernelspec": {
   "display_name": "erdos_may_2024",
   "language": "python",
   "name": "python3"
  },
  "language_info": {
   "codemirror_mode": {
    "name": "ipython",
    "version": 3
   },
   "file_extension": ".py",
   "mimetype": "text/x-python",
   "name": "python",
   "nbconvert_exporter": "python",
   "pygments_lexer": "ipython3",
   "version": "3.11.9"
  }
 },
 "nbformat": 4,
 "nbformat_minor": 2
}

{
 "cells": [
  {
   "cell_type": "code",
   "execution_count": 9,
   "id": "a75f4188",
   "metadata": {},
   "outputs": [],
   "source": [
    "## For data handling\n",
    "import pandas as pd\n",
    "import numpy as np\n",
    "\n",
    "## For plotting\n",
    "import matplotlib.pyplot as plt\n",
    "from seaborn import set_style\n",
    "\n",
    "## This sets the plot style\n",
    "## to have a grid on a white background\n",
    "set_style(\"whitegrid\")\n",
    "\n",
    "import pprint\n",
    "\n",
    "## import model objects\n",
    "from sklearn.tree import DecisionTreeClassifier\n",
    "from sklearn.ensemble import RandomForestClassifier, ExtraTreesClassifier\n",
    "from sklearn.metrics import accuracy_score\n",
    "#from tree_helpers import SkNode, traversable_nodes\n",
    "\n",
    "from sklearn.model_selection import train_test_split\n",
    "from sklearn.model_selection import train_test_split, KFold\n",
    "from sklearn.metrics import mean_squared_error\n"
   ]
  },
  {
   "cell_type": "code",
   "execution_count": 10,
   "id": "1922103b",
   "metadata": {},
   "outputs": [],
   "source": [
    "aggregate=pd.read_csv('./aggregate.csv',engine='python')\n",
    "aggregate.set_index('GEO_ID',inplace=True)\n",
    "agg_train, agg_test = train_test_split(aggregate,test_size=0.2,shuffle=True,random_state=121)"
   ]
  },
  {
   "cell_type": "code",
   "execution_count": 11,
   "id": "49e15e59",
   "metadata": {},
   "outputs": [],
   "source": [
    "def powerset(l):\n",
    "    pl=[[]]\n",
    "    for x in l:\n",
    "        pl=pl+[y+[x] for y in pl]\n",
    "    return pl[1:]"
   ]
  },
  {
   "cell_type": "code",
   "execution_count": 12,
   "id": "d2648c86",
   "metadata": {},
   "outputs": [],
   "source": [
    "features=['white_pc','log_pop','urban', 'unemp_bac', 'log_urban_pop', 'pov_pc', 'unemp_rate', 'bac_deg', 'hs_deg', 'pop_18_30_pc', 'pop_60_up_pc']\n",
    "results=['democrat','republican']\n",
    "agg_train['unemp_bac']=agg_train['unemp_rate']*agg_train['bac_deg']\n",
    "agg_train['log_pop']=np.log10(agg_train['total_pop'].apply(lambda x: max(x,0.1)))\n",
    "agg_train['log_urban_pop']=np.log10((agg_train['urban']*agg_train['total_pop']).apply(lambda x: max(x,0.1)))\n",
    "for x in agg_train.index:\n",
    "    agg_train.loc[x,'winner'] = 'D' if agg_train.loc[x,'democrat'] > agg_train.loc[x,'republican'] else 'R'"
   ]
  },
  {
   "cell_type": "code",
   "execution_count": 13,
   "id": "7532a60e",
   "metadata": {},
   "outputs": [],
   "source": [
    "from sklearn.tree import DecisionTreeRegressor\n",
    "from sklearn.ensemble import RandomForestRegressor"
   ]
  },
  {
   "cell_type": "code",
   "execution_count": 27,
   "id": "d5536875",
   "metadata": {},
   "outputs": [
    {
     "name": "stdout",
     "output_type": "stream",
     "text": [
      "0\n",
      "85.22407918892796\n",
      "1\n",
      "82.96975418882809\n",
      "2\n",
      "90.2056232388459\n",
      "3\n",
      "76.4784683690093\n",
      "4\n",
      "84.581295024769\n"
     ]
    }
   ],
   "source": [
    "kfold=KFold(n_splits=5,shuffle=True,random_state=121)\n",
    "#allfeatures=powerset(features)\n",
    "#mse=np.zeros(len(allfeatures))\n",
    "i=0\n",
    "mse=np.zeros(5)\n",
    "for train_i, test_i in kfold.split(agg_train):\n",
    "    train_var = agg_train.iloc[train_i]\n",
    "    test_var = agg_train.iloc[test_i]\n",
    "#    baseline=np.ones(len(test_var))*(train_var['democrat'].values.mean())\n",
    "#    mse[-1] += mean_squared_error(baseline, test_var['democrat'])\n",
    "#    for i,featureset in enumerate(allfeatures):       \n",
    "#        lr=LinearRegression()\n",
    "    rf = RandomForestRegressor(\n",
    "            n_estimators = 500, # number of trees in ensemble\n",
    "            #max_depth = 10, # max_depth of each tree\n",
    "            min_samples_leaf = 5, \n",
    "            max_features = 2, # default is round(sqrt(num_features)), which in this case is 1.\n",
    "            bootstrap= True, # sampling with replacement\n",
    "            max_samples = 500, # number of training samples selected with replacement to build tree\n",
    "            random_state = 121 # for consistency\n",
    "        )\n",
    "#        if(len(featureset))==1:\n",
    "#            rf.fit(train_var[featureset].values.reshape(-1,1),train_var['democrat'])\n",
    "#            mse[i] += mean_squared_error(rf.predict(test_var[featureset].values.reshape(-1,1)),test_var['democrat'])\n",
    "#        else:\n",
    "#            rf.fit(train_var[featureset].values,train_var['democrat'])\n",
    "#            mse[i] += mean_squared_error(rf.predict(test_var[featureset].values),test_var['democrat'])\n",
    "#        print(i)\n",
    "    rf.fit(train_var[features].values,train_var['democrat'])\n",
    "    #mse[i]+=mean_squared_error(rf.predict(test_var[features].values.reshape(-1,1),test_var['democrat']))\n",
    "    mse[i] += mean_squared_error(rf.predict(test_var[features].values),test_var['democrat'])\n",
    "    print(i)\n",
    "    print(mse[i])\n",
    "    i=i+1"
   ]
  },
  {
   "cell_type": "code",
   "execution_count": 29,
   "id": "90c5baed",
   "metadata": {},
   "outputs": [
    {
     "name": "stdout",
     "output_type": "stream",
     "text": [
      "0\n",
      "1\n",
      "2\n",
      "3\n",
      "4\n",
      "83.89184400207606\n"
     ]
    }
   ],
   "source": [
    "m=0\n",
    "for i in range(0,len(mse)):\n",
    "    m+=mse[i]\n",
    "    print(i)\n",
    "m=m/5\n",
    "print(m)"
   ]
  },
  {
   "cell_type": "code",
   "execution_count": null,
   "id": "839f2b7d",
   "metadata": {},
   "outputs": [],
   "source": []
  }
 ],
 "metadata": {
  "kernelspec": {
   "display_name": "Python 3 (ipykernel)",
   "language": "python",
   "name": "python3"
  },
  "language_info": {
   "codemirror_mode": {
    "name": "ipython",
    "version": 3
   },
   "file_extension": ".py",
   "mimetype": "text/x-python",
   "name": "python",
   "nbconvert_exporter": "python",
   "pygments_lexer": "ipython3",
   "version": "3.10.9"
  }
 },
 "nbformat": 4,
 "nbformat_minor": 5
}

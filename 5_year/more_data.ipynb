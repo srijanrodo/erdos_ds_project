{
 "cells": [
  {
   "cell_type": "code",
   "execution_count": 1,
   "metadata": {},
   "outputs": [],
   "source": [
    "import pandas as pd\n",
    "import numpy as np\n",
    "import matplotlib.pyplot as plt\n",
    "import seaborn as sns\n",
    "import requests\n",
    "from pathlib import Path\n",
    "sns.set_style(\"whitegrid\")"
   ]
  },
  {
   "cell_type": "code",
   "execution_count": 3,
   "metadata": {},
   "outputs": [
    {
     "name": "stdout",
     "output_type": "stream",
     "text": [
      "<class 'pandas.core.frame.DataFrame'>\n",
      "RangeIndex: 3220 entries, 0 to 3219\n",
      "Data columns (total 43 columns):\n",
      " #   Column            Non-Null Count  Dtype \n",
      "---  ------            --------------  ----- \n",
      " 0   Unnamed: 0        3220 non-null   int64 \n",
      " 1   GEO_ID            3220 non-null   object\n",
      " 2   NAME              3220 non-null   object\n",
      " 3   total_pop         3220 non-null   int64 \n",
      " 4   pop_0_5           3220 non-null   int64 \n",
      " 5   pop_5_10          3220 non-null   int64 \n",
      " 6   pop_10_15         3220 non-null   int64 \n",
      " 7   pop_15_20         3220 non-null   int64 \n",
      " 8   pop_20_25         3220 non-null   int64 \n",
      " 9   pop_25_30         3220 non-null   int64 \n",
      " 10  pop_30_35         3220 non-null   int64 \n",
      " 11  pop_35_40         3220 non-null   int64 \n",
      " 12  pop_40_45         3220 non-null   int64 \n",
      " 13  pop_45_50         3220 non-null   int64 \n",
      " 14  pop_50_55         3220 non-null   int64 \n",
      " 15  pop_55_60         3220 non-null   int64 \n",
      " 16  pop_60_65         3220 non-null   int64 \n",
      " 17  pop_65_70         3220 non-null   int64 \n",
      " 18  pop_70_75         3220 non-null   int64 \n",
      " 19  pop_75_80         3220 non-null   int64 \n",
      " 20  pop_80_85         3220 non-null   int64 \n",
      " 21  pop_85_90         3220 non-null   int64 \n",
      " 22  pop_18_24         3220 non-null   int64 \n",
      " 23  total_male_pop    3220 non-null   int64 \n",
      " 24  pop_male_0_5      3220 non-null   int64 \n",
      " 25  pop_male_5_10     3220 non-null   int64 \n",
      " 26  pop_male_10_15    3220 non-null   int64 \n",
      " 27  pop_male_15_20    3220 non-null   int64 \n",
      " 28  pop_male_20_25    3220 non-null   int64 \n",
      " 29  pop_male_25_30    3220 non-null   int64 \n",
      " 30  pop_male_30_35    3220 non-null   int64 \n",
      " 31  pop_male_35_40    3220 non-null   int64 \n",
      " 32  pop_male_40_45    3220 non-null   int64 \n",
      " 33  pop_male_45_50    3220 non-null   int64 \n",
      " 34  pop_male_50_55    3220 non-null   int64 \n",
      " 35  pop_male_55_60    3220 non-null   int64 \n",
      " 36  pop_male_60_65    3220 non-null   int64 \n",
      " 37  pop_male_65_70    3220 non-null   int64 \n",
      " 38  pop_male_70_75    3220 non-null   int64 \n",
      " 39  pop_male_75_80    3220 non-null   int64 \n",
      " 40  pop_male_80_85    3220 non-null   int64 \n",
      " 41  pop_male_85_90    3220 non-null   int64 \n",
      " 42  pop_male_105_110  3220 non-null   int64 \n",
      "dtypes: int64(41), object(2)\n",
      "memory usage: 1.1+ MB\n"
     ]
    }
   ],
   "source": [
    "demographics=pd.read_csv('./demographics/demographics_cleaned.csv')\n",
    "demographics.info()"
   ]
  },
  {
   "cell_type": "code",
   "execution_count": 9,
   "metadata": {},
   "outputs": [],
   "source": [
    "#better_demographics=demographics[['GEO_ID','NAME']]"
   ]
  },
  {
   "cell_type": "code",
   "execution_count": 60,
   "metadata": {},
   "outputs": [],
   "source": [
    "demographics['pop_18_30']=demographics['pop_18_24']+demographics['pop_25_30']\n",
    "demographics['pop_18_30_pc']=100*demographics['pop_18_30']/demographics['total_pop']\n",
    "demographics['pop_60_up']=demographics['pop_60_65']+demographics['pop_65_70']+demographics['pop_70_75']+demographics['pop_75_80']+demographics['pop_80_85']+demographics['pop_85_90']\n",
    "demographics['pop_60_up_pc']=100*demographics['pop_60_up']/demographics['total_pop']\n",
    "\n",
    "demographics['pop_male_pc']=100*demographics['total_male_pop']/demographics['total_pop']\n",
    "final_tally=demographics[['GEO_ID','NAME','total_pop','pop_18_30_pc','pop_60_up_pc','pop_male_pc']]\n"
   ]
  },
  {
   "cell_type": "code",
   "execution_count": 61,
   "metadata": {},
   "outputs": [],
   "source": [
    "final_tally.set_index('GEO_ID',inplace=True)\n"
   ]
  },
  {
   "cell_type": "code",
   "execution_count": 62,
   "metadata": {},
   "outputs": [
    {
     "name": "stdout",
     "output_type": "stream",
     "text": [
      "<class 'pandas.core.frame.DataFrame'>\n",
      "Index: 3220 entries, 0500000US01001 to 0500000US72153\n",
      "Data columns (total 5 columns):\n",
      " #   Column        Non-Null Count  Dtype  \n",
      "---  ------        --------------  -----  \n",
      " 0   NAME          3220 non-null   object \n",
      " 1   total_pop     3220 non-null   int64  \n",
      " 2   pop_18_30_pc  3220 non-null   float64\n",
      " 3   pop_60_up_pc  3220 non-null   float64\n",
      " 4   pop_male_pc   3220 non-null   float64\n",
      "dtypes: float64(3), int64(1), object(1)\n",
      "memory usage: 150.9+ KB\n"
     ]
    }
   ],
   "source": [
    "final_tally.info()"
   ]
  },
  {
   "cell_type": "code",
   "execution_count": 63,
   "metadata": {},
   "outputs": [],
   "source": [
    "dp_2016=pd.read_csv('./demographics/dp_2016_cleaned.csv')\n",
    "dp_2019=pd.read_csv('./demographics/dp_2019_cleaned.csv')\n",
    "dp_2016.drop(axis=1,labels=['Unnamed: 0'],inplace=True)\n",
    "dp_2019.drop(axis=1,labels=['Unnamed: 0'],inplace=True)\n",
    "dp_2016.set_index('GEO_ID',inplace=True)\n",
    "dp_2019.set_index('GEO_ID',inplace=True)"
   ]
  },
  {
   "cell_type": "code",
   "execution_count": 64,
   "metadata": {},
   "outputs": [
    {
     "data": {
      "text/plain": [
       "GEO_ID\n",
       "0500000US01001     55380\n",
       "0500000US01003    212830\n",
       "0500000US01005     25361\n",
       "0500000US01007     22493\n",
       "0500000US01009     57681\n",
       "                   ...  \n",
       "0500000US72145     52192\n",
       "0500000US72147      8642\n",
       "0500000US72149     22403\n",
       "0500000US72151     33499\n",
       "0500000US72153     35428\n",
       "Name: tot_pop, Length: 3220, dtype: int64"
      ]
     },
     "execution_count": 64,
     "metadata": {},
     "output_type": "execute_result"
    }
   ],
   "source": [
    "dp_2019.loc[:,'tot_pop']"
   ]
  },
  {
   "cell_type": "code",
   "execution_count": 65,
   "metadata": {},
   "outputs": [
    {
     "name": "stderr",
     "output_type": "stream",
     "text": [
      "/tmp/ipykernel_395245/176667491.py:6: SettingWithCopyWarning: \n",
      "A value is trying to be set on a copy of a slice from a DataFrame.\n",
      "Try using .loc[row_indexer,col_indexer] = value instead\n",
      "\n",
      "See the caveats in the documentation: https://pandas.pydata.org/pandas-docs/stable/user_guide/indexing.html#returning-a-view-versus-a-copy\n",
      "  delta_dp.loc[:,x+'_delta']=dp_2019[(x+'_pc')]-dp_2016[(x+'_pc')]\n",
      "/tmp/ipykernel_395245/176667491.py:6: SettingWithCopyWarning: \n",
      "A value is trying to be set on a copy of a slice from a DataFrame.\n",
      "Try using .loc[row_indexer,col_indexer] = value instead\n",
      "\n",
      "See the caveats in the documentation: https://pandas.pydata.org/pandas-docs/stable/user_guide/indexing.html#returning-a-view-versus-a-copy\n",
      "  delta_dp.loc[:,x+'_delta']=dp_2019[(x+'_pc')]-dp_2016[(x+'_pc')]\n",
      "/tmp/ipykernel_395245/176667491.py:6: SettingWithCopyWarning: \n",
      "A value is trying to be set on a copy of a slice from a DataFrame.\n",
      "Try using .loc[row_indexer,col_indexer] = value instead\n",
      "\n",
      "See the caveats in the documentation: https://pandas.pydata.org/pandas-docs/stable/user_guide/indexing.html#returning-a-view-versus-a-copy\n",
      "  delta_dp.loc[:,x+'_delta']=dp_2019[(x+'_pc')]-dp_2016[(x+'_pc')]\n",
      "/tmp/ipykernel_395245/176667491.py:6: SettingWithCopyWarning: \n",
      "A value is trying to be set on a copy of a slice from a DataFrame.\n",
      "Try using .loc[row_indexer,col_indexer] = value instead\n",
      "\n",
      "See the caveats in the documentation: https://pandas.pydata.org/pandas-docs/stable/user_guide/indexing.html#returning-a-view-versus-a-copy\n",
      "  delta_dp.loc[:,x+'_delta']=dp_2019[(x+'_pc')]-dp_2016[(x+'_pc')]\n",
      "/tmp/ipykernel_395245/176667491.py:6: SettingWithCopyWarning: \n",
      "A value is trying to be set on a copy of a slice from a DataFrame.\n",
      "Try using .loc[row_indexer,col_indexer] = value instead\n",
      "\n",
      "See the caveats in the documentation: https://pandas.pydata.org/pandas-docs/stable/user_guide/indexing.html#returning-a-view-versus-a-copy\n",
      "  delta_dp.loc[:,x+'_delta']=dp_2019[(x+'_pc')]-dp_2016[(x+'_pc')]\n",
      "/tmp/ipykernel_395245/176667491.py:6: SettingWithCopyWarning: \n",
      "A value is trying to be set on a copy of a slice from a DataFrame.\n",
      "Try using .loc[row_indexer,col_indexer] = value instead\n",
      "\n",
      "See the caveats in the documentation: https://pandas.pydata.org/pandas-docs/stable/user_guide/indexing.html#returning-a-view-versus-a-copy\n",
      "  delta_dp.loc[:,x+'_delta']=dp_2019[(x+'_pc')]-dp_2016[(x+'_pc')]\n",
      "/tmp/ipykernel_395245/176667491.py:7: SettingWithCopyWarning: \n",
      "A value is trying to be set on a copy of a slice from a DataFrame\n",
      "\n",
      "See the caveats in the documentation: https://pandas.pydata.org/pandas-docs/stable/user_guide/indexing.html#returning-a-view-versus-a-copy\n",
      "  delta_dp.drop(axis=1,labels=['tot_pop_delta'],inplace=True)\n"
     ]
    }
   ],
   "source": [
    "delta_dp=dp_2016[['NAME']]\n",
    "for x in dp_2016.columns:\n",
    "    if x != 'NAME':\n",
    "        dp_2016[x+'_pc']=100*dp_2016[x]/dp_2016['tot_pop']\n",
    "        dp_2019[x+'_pc']=100*dp_2019[x]/dp_2019['tot_pop']\n",
    "        delta_dp.loc[:,x+'_delta']=dp_2019[(x+'_pc')]-dp_2016[(x+'_pc')]\n",
    "delta_dp.drop(axis=1,labels=['tot_pop_delta'],inplace=True)"
   ]
  },
  {
   "cell_type": "code",
   "execution_count": 66,
   "metadata": {},
   "outputs": [],
   "source": [
    "cols=['afr_amer','amer_ind','asian','latino','white']\n",
    "final_tally.loc[:,[x+'_pc' for x in cols]]=dp_2019.loc[:,[ x+'_pc' for x in cols]]\n",
    "final_tally.loc[:,[x+'_delta' for x in cols]]=delta_dp.loc[:,[x+'_delta' for x in cols]]"
   ]
  },
  {
   "cell_type": "code",
   "execution_count": 68,
   "metadata": {},
   "outputs": [
    {
     "name": "stdout",
     "output_type": "stream",
     "text": [
      "<class 'pandas.core.frame.DataFrame'>\n",
      "Index: 3220 entries, 0500000US01001 to 0500000US72153\n",
      "Data columns (total 15 columns):\n",
      " #   Column          Non-Null Count  Dtype  \n",
      "---  ------          --------------  -----  \n",
      " 0   NAME            3220 non-null   object \n",
      " 1   total_pop       3220 non-null   int64  \n",
      " 2   pop_18_30_pc    3220 non-null   float64\n",
      " 3   pop_60_up_pc    3220 non-null   float64\n",
      " 4   pop_male_pc     3220 non-null   float64\n",
      " 5   afr_amer_pc     3220 non-null   float64\n",
      " 6   amer_ind_pc     3220 non-null   float64\n",
      " 7   asian_pc        3220 non-null   float64\n",
      " 8   latino_pc       3220 non-null   float64\n",
      " 9   white_pc        3220 non-null   float64\n",
      " 10  afr_amer_delta  3220 non-null   float64\n",
      " 11  amer_ind_delta  3220 non-null   float64\n",
      " 12  asian_delta     3220 non-null   float64\n",
      " 13  latino_delta    3220 non-null   float64\n",
      " 14  white_delta     3220 non-null   float64\n",
      "dtypes: float64(13), int64(1), object(1)\n",
      "memory usage: 402.5+ KB\n"
     ]
    }
   ],
   "source": [
    "final_tally.info()"
   ]
  },
  {
   "cell_type": "code",
   "execution_count": 75,
   "metadata": {},
   "outputs": [
    {
     "ename": "AttributeError",
     "evalue": "'NoneType' object has no attribute 'drop'",
     "output_type": "error",
     "traceback": [
      "\u001b[0;31m---------------------------------------------------------------------------\u001b[0m",
      "\u001b[0;31mAttributeError\u001b[0m                            Traceback (most recent call last)",
      "Cell \u001b[0;32mIn[75], line 3\u001b[0m\n\u001b[1;32m      1\u001b[0m poverty_2019\u001b[38;5;241m=\u001b[39mpd\u001b[38;5;241m.\u001b[39mread_csv(\u001b[38;5;124m'\u001b[39m\u001b[38;5;124m./poverty/poverty_2019_cleaned.csv\u001b[39m\u001b[38;5;124m'\u001b[39m,engine\u001b[38;5;241m=\u001b[39m\u001b[38;5;124m'\u001b[39m\u001b[38;5;124mpython\u001b[39m\u001b[38;5;124m'\u001b[39m)\n\u001b[1;32m      2\u001b[0m poverty_2016\u001b[38;5;241m=\u001b[39mpd\u001b[38;5;241m.\u001b[39mread_csv(\u001b[38;5;124m'\u001b[39m\u001b[38;5;124m./poverty/poverty_2016_cleaned.csv\u001b[39m\u001b[38;5;124m'\u001b[39m,engine\u001b[38;5;241m=\u001b[39m\u001b[38;5;124m'\u001b[39m\u001b[38;5;124mpython\u001b[39m\u001b[38;5;124m'\u001b[39m)\n\u001b[0;32m----> 3\u001b[0m \u001b[43mpoverty_2016\u001b[49m\u001b[38;5;241;43m.\u001b[39;49m\u001b[43mset_index\u001b[49m\u001b[43m(\u001b[49m\u001b[38;5;124;43m'\u001b[39;49m\u001b[38;5;124;43mGEO_ID\u001b[39;49m\u001b[38;5;124;43m'\u001b[39;49m\u001b[43m,\u001b[49m\u001b[43minplace\u001b[49m\u001b[38;5;241;43m=\u001b[39;49m\u001b[38;5;28;43;01mTrue\u001b[39;49;00m\u001b[43m)\u001b[49m\u001b[38;5;241;43m.\u001b[39;49m\u001b[43mdrop\u001b[49m(axis\u001b[38;5;241m=\u001b[39m\u001b[38;5;241m1\u001b[39m,labels\u001b[38;5;241m=\u001b[39m[\u001b[38;5;124m'\u001b[39m\u001b[38;5;124mUnnamed: 0\u001b[39m\u001b[38;5;124m'\u001b[39m],inplace\u001b[38;5;241m=\u001b[39m\u001b[38;5;28;01mTrue\u001b[39;00m)\n\u001b[1;32m      4\u001b[0m poverty_2019\u001b[38;5;241m.\u001b[39mset_index(\u001b[38;5;124m'\u001b[39m\u001b[38;5;124mGEO_ID\u001b[39m\u001b[38;5;124m'\u001b[39m,inplace\u001b[38;5;241m=\u001b[39m\u001b[38;5;28;01mTrue\u001b[39;00m)\u001b[38;5;241m.\u001b[39mdrop(axis\u001b[38;5;241m=\u001b[39m\u001b[38;5;241m1\u001b[39m,labels\u001b[38;5;241m=\u001b[39m[\u001b[38;5;124m'\u001b[39m\u001b[38;5;124mUnnamed: 0\u001b[39m\u001b[38;5;124m'\u001b[39m],inplace\u001b[38;5;241m=\u001b[39m\u001b[38;5;28;01mTrue\u001b[39;00m)\n",
      "\u001b[0;31mAttributeError\u001b[0m: 'NoneType' object has no attribute 'drop'"
     ]
    }
   ],
   "source": [
    "poverty_2019=pd.read_csv('./poverty/poverty_2019_cleaned.csv',engine='python')\n",
    "poverty_2016=pd.read_csv('./poverty/poverty_2016_cleaned.csv',engine='python')\n",
    "poverty_2016.set_index('GEO_ID',inplace=True)\n",
    "poverty_2019.set_index('GEO_ID',inplace=True)\n",
    "poverty_2016..drop(axis=1,labels=['Unnamed: 0'],inplace=True)\n",
    "poverty_2019..drop(axis=1,labels=['Unnamed: 0'],inplace=True)\n",
    "\n"
   ]
  },
  {
   "cell_type": "code",
   "execution_count": 74,
   "metadata": {},
   "outputs": [
    {
     "data": {
      "text/html": [
       "<div>\n",
       "<style scoped>\n",
       "    .dataframe tbody tr th:only-of-type {\n",
       "        vertical-align: middle;\n",
       "    }\n",
       "\n",
       "    .dataframe tbody tr th {\n",
       "        vertical-align: top;\n",
       "    }\n",
       "\n",
       "    .dataframe thead th {\n",
       "        text-align: right;\n",
       "    }\n",
       "</style>\n",
       "<table border=\"1\" class=\"dataframe\">\n",
       "  <thead>\n",
       "    <tr style=\"text-align: right;\">\n",
       "      <th></th>\n",
       "      <th>Unnamed: 0</th>\n",
       "      <th>NAME</th>\n",
       "      <th>tot_poverty</th>\n",
       "      <th>pov_150</th>\n",
       "    </tr>\n",
       "    <tr>\n",
       "      <th>GEO_ID</th>\n",
       "      <th></th>\n",
       "      <th></th>\n",
       "      <th></th>\n",
       "      <th></th>\n",
       "    </tr>\n",
       "  </thead>\n",
       "  <tbody>\n",
       "    <tr>\n",
       "      <th>0500000US01001</th>\n",
       "      <td>1</td>\n",
       "      <td>Autauga County, Alabama</td>\n",
       "      <td>6697</td>\n",
       "      <td>12616</td>\n",
       "    </tr>\n",
       "    <tr>\n",
       "      <th>0500000US01003</th>\n",
       "      <td>2</td>\n",
       "      <td>Baldwin County, Alabama</td>\n",
       "      <td>25551</td>\n",
       "      <td>44150</td>\n",
       "    </tr>\n",
       "    <tr>\n",
       "      <th>0500000US01005</th>\n",
       "      <td>3</td>\n",
       "      <td>Barbour County, Alabama</td>\n",
       "      <td>6235</td>\n",
       "      <td>9551</td>\n",
       "    </tr>\n",
       "    <tr>\n",
       "      <th>0500000US01007</th>\n",
       "      <td>4</td>\n",
       "      <td>Bibb County, Alabama</td>\n",
       "      <td>3390</td>\n",
       "      <td>5431</td>\n",
       "    </tr>\n",
       "    <tr>\n",
       "      <th>0500000US01009</th>\n",
       "      <td>5</td>\n",
       "      <td>Blount County, Alabama</td>\n",
       "      <td>9441</td>\n",
       "      <td>17159</td>\n",
       "    </tr>\n",
       "    <tr>\n",
       "      <th>...</th>\n",
       "      <td>...</td>\n",
       "      <td>...</td>\n",
       "      <td>...</td>\n",
       "      <td>...</td>\n",
       "    </tr>\n",
       "    <tr>\n",
       "      <th>0500000US72145</th>\n",
       "      <td>3216</td>\n",
       "      <td>Vega Baja Municipio, Puerto Rico</td>\n",
       "      <td>25518</td>\n",
       "      <td>35438</td>\n",
       "    </tr>\n",
       "    <tr>\n",
       "      <th>0500000US72147</th>\n",
       "      <td>3217</td>\n",
       "      <td>Vieques Municipio, Puerto Rico</td>\n",
       "      <td>3220</td>\n",
       "      <td>5420</td>\n",
       "    </tr>\n",
       "    <tr>\n",
       "      <th>0500000US72149</th>\n",
       "      <td>3218</td>\n",
       "      <td>Villalba Municipio, Puerto Rico</td>\n",
       "      <td>12185</td>\n",
       "      <td>16186</td>\n",
       "    </tr>\n",
       "    <tr>\n",
       "      <th>0500000US72151</th>\n",
       "      <td>3219</td>\n",
       "      <td>Yabucoa Municipio, Puerto Rico</td>\n",
       "      <td>17603</td>\n",
       "      <td>25123</td>\n",
       "    </tr>\n",
       "    <tr>\n",
       "      <th>0500000US72153</th>\n",
       "      <td>3220</td>\n",
       "      <td>Yauco Municipio, Puerto Rico</td>\n",
       "      <td>19162</td>\n",
       "      <td>25729</td>\n",
       "    </tr>\n",
       "  </tbody>\n",
       "</table>\n",
       "<p>3220 rows × 4 columns</p>\n",
       "</div>"
      ],
      "text/plain": [
       "                Unnamed: 0                              NAME  tot_poverty  \\\n",
       "GEO_ID                                                                      \n",
       "0500000US01001           1           Autauga County, Alabama         6697   \n",
       "0500000US01003           2           Baldwin County, Alabama        25551   \n",
       "0500000US01005           3           Barbour County, Alabama         6235   \n",
       "0500000US01007           4              Bibb County, Alabama         3390   \n",
       "0500000US01009           5            Blount County, Alabama         9441   \n",
       "...                    ...                               ...          ...   \n",
       "0500000US72145        3216  Vega Baja Municipio, Puerto Rico        25518   \n",
       "0500000US72147        3217    Vieques Municipio, Puerto Rico         3220   \n",
       "0500000US72149        3218   Villalba Municipio, Puerto Rico        12185   \n",
       "0500000US72151        3219    Yabucoa Municipio, Puerto Rico        17603   \n",
       "0500000US72153        3220      Yauco Municipio, Puerto Rico        19162   \n",
       "\n",
       "                pov_150  \n",
       "GEO_ID                   \n",
       "0500000US01001    12616  \n",
       "0500000US01003    44150  \n",
       "0500000US01005     9551  \n",
       "0500000US01007     5431  \n",
       "0500000US01009    17159  \n",
       "...                 ...  \n",
       "0500000US72145    35438  \n",
       "0500000US72147     5420  \n",
       "0500000US72149    16186  \n",
       "0500000US72151    25123  \n",
       "0500000US72153    25729  \n",
       "\n",
       "[3220 rows x 4 columns]"
      ]
     },
     "execution_count": 74,
     "metadata": {},
     "output_type": "execute_result"
    }
   ],
   "source": [
    "poverty_2016['pov_pc']=100*poverty_2016['tot_poverty']/"
   ]
  },
  {
   "cell_type": "code",
   "execution_count": null,
   "metadata": {},
   "outputs": [],
   "source": []
  }
 ],
 "metadata": {
  "kernelspec": {
   "display_name": "erdos_may_2024",
   "language": "python",
   "name": "python3"
  },
  "language_info": {
   "codemirror_mode": {
    "name": "ipython",
    "version": 3
   },
   "file_extension": ".py",
   "mimetype": "text/x-python",
   "name": "python",
   "nbconvert_exporter": "python",
   "pygments_lexer": "ipython3",
   "version": "3.11.9"
  }
 },
 "nbformat": 4,
 "nbformat_minor": 2
}
